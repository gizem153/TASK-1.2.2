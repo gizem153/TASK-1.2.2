{
  "nbformat": 4,
  "nbformat_minor": 0,
  "metadata": {
    "colab": {
      "provenance": []
    },
    "kernelspec": {
      "name": "python3",
      "display_name": "Python 3"
    },
    "language_info": {
      "name": "python"
    }
  },
  "cells": [
    {
      "cell_type": "code",
      "execution_count": 2,
      "metadata": {
        "id": "byf8Mu2oqloQ"
      },
      "outputs": [],
      "source": [
        "def getprimes(x):\n",
        "    primes = []\n",
        "\n",
        "    for a in range(1,10000):\n",
        "        isPrime = True\n",
        "        for b in range(2,a):\n",
        "            if(a%b==0):\n",
        "                isPrime = False\n",
        "        if isPrime:\n",
        "            primes.append(a)\n",
        "\n",
        "        if len(primes) == x:\n",
        "            return primes\n",
        "\n"
      ]
    },
    {
      "cell_type": "code",
      "source": [
        "\n",
        "print(getprimes(100))\n"
      ],
      "metadata": {
        "colab": {
          "base_uri": "https://localhost:8080/"
        },
        "id": "iL52XgBeqpV7",
        "outputId": "5a8bb4f1-c043-4954-faa5-365f9bdef241"
      },
      "execution_count": 3,
      "outputs": [
        {
          "output_type": "stream",
          "name": "stdout",
          "text": [
            "[1, 2, 3, 5, 7, 11, 13, 17, 19, 23, 29, 31, 37, 41, 43, 47, 53, 59, 61, 67, 71, 73, 79, 83, 89, 97, 101, 103, 107, 109, 113, 127, 131, 137, 139, 149, 151, 157, 163, 167, 173, 179, 181, 191, 193, 197, 199, 211, 223, 227, 229, 233, 239, 241, 251, 257, 263, 269, 271, 277, 281, 283, 293, 307, 311, 313, 317, 331, 337, 347, 349, 353, 359, 367, 373, 379, 383, 389, 397, 401, 409, 419, 421, 431, 433, 439, 443, 449, 457, 461, 463, 467, 479, 487, 491, 499, 503, 509, 521, 523]\n"
          ]
        }
      ]
    }
  ]
}